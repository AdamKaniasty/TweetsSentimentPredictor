{
 "cells": [
  {
   "cell_type": "code",
   "execution_count": 1,
   "id": "initial_id",
   "metadata": {
    "collapsed": true,
    "ExecuteTime": {
     "end_time": "2024-04-21T20:05:20.185426730Z",
     "start_time": "2024-04-21T20:05:19.705487538Z"
    }
   },
   "outputs": [],
   "source": [
    "import pandas as pd\n",
    "import numpy as np\n",
    "import matplotlib.pyplot as plt"
   ]
  },
  {
   "cell_type": "code",
   "outputs": [],
   "source": [
    "df = pd.read_csv(\"./data/tweets_features.csv\", encoding='latin')\n",
    "df.drop(['is_after_certain_day', 'Date', 'User', 'Text', 'Time', 'Full_date'], axis=1, inplace=True)"
   ],
   "metadata": {
    "collapsed": false,
    "ExecuteTime": {
     "end_time": "2024-04-21T20:05:32.601280488Z",
     "start_time": "2024-04-21T20:05:20.175802529Z"
    }
   },
   "id": "51d04b62db515eba",
   "execution_count": 2
  },
  {
   "cell_type": "code",
   "outputs": [
    {
     "data": {
      "text/plain": "   Target  Weekday  Length  Hashtags  HasHashtags  Mentions  HasMentions  \\\n0       0        4     111         0        False         0        False   \n1       0        2     131         0        False         0        False   \n2       0        1      41         0        False         1         True   \n3       0        6      72         0        False         0        False   \n4       1        0      57         0        False         1         True   \n\n   ExclamationMarks  HasExclamationMarks Emoticons  ...    w2v_90    w2v_91  \\\n0                 0                False        []  ...  0.576463  0.272287   \n1                 0                False        []  ...  0.400095  0.262307   \n2                 2                 True        []  ...  0.460558  0.378846   \n3                 0                False        []  ...  0.535103  0.073591   \n4                 0                False        []  ...  0.484578  0.324513   \n\n     w2v_92    w2v_93    w2v_94    w2v_95    w2v_96    w2v_97    w2v_98  \\\n0 -0.270659  0.398829  0.806970  0.539171  0.261823 -0.655965  0.179224   \n1  0.052329  0.443299  0.895985  0.565586  0.221301 -0.797784  0.020691   \n2 -0.171764  0.227248  0.303033  0.620672  0.146584 -0.615910  0.112132   \n3 -0.307203  0.651506  0.309582  0.018715 -0.205674 -0.595330  0.333111   \n4 -0.259205  0.183831  0.745856  0.448028  0.359533 -0.555516 -0.176974   \n\n     w2v_99  \n0 -0.132590  \n1  0.002357  \n2 -0.088989  \n3  0.001450  \n4 -0.091381  \n\n[5 rows x 541 columns]",
      "text/html": "<div>\n<style scoped>\n    .dataframe tbody tr th:only-of-type {\n        vertical-align: middle;\n    }\n\n    .dataframe tbody tr th {\n        vertical-align: top;\n    }\n\n    .dataframe thead th {\n        text-align: right;\n    }\n</style>\n<table border=\"1\" class=\"dataframe\">\n  <thead>\n    <tr style=\"text-align: right;\">\n      <th></th>\n      <th>Target</th>\n      <th>Weekday</th>\n      <th>Length</th>\n      <th>Hashtags</th>\n      <th>HasHashtags</th>\n      <th>Mentions</th>\n      <th>HasMentions</th>\n      <th>ExclamationMarks</th>\n      <th>HasExclamationMarks</th>\n      <th>Emoticons</th>\n      <th>...</th>\n      <th>w2v_90</th>\n      <th>w2v_91</th>\n      <th>w2v_92</th>\n      <th>w2v_93</th>\n      <th>w2v_94</th>\n      <th>w2v_95</th>\n      <th>w2v_96</th>\n      <th>w2v_97</th>\n      <th>w2v_98</th>\n      <th>w2v_99</th>\n    </tr>\n  </thead>\n  <tbody>\n    <tr>\n      <th>0</th>\n      <td>0</td>\n      <td>4</td>\n      <td>111</td>\n      <td>0</td>\n      <td>False</td>\n      <td>0</td>\n      <td>False</td>\n      <td>0</td>\n      <td>False</td>\n      <td>[]</td>\n      <td>...</td>\n      <td>0.576463</td>\n      <td>0.272287</td>\n      <td>-0.270659</td>\n      <td>0.398829</td>\n      <td>0.806970</td>\n      <td>0.539171</td>\n      <td>0.261823</td>\n      <td>-0.655965</td>\n      <td>0.179224</td>\n      <td>-0.132590</td>\n    </tr>\n    <tr>\n      <th>1</th>\n      <td>0</td>\n      <td>2</td>\n      <td>131</td>\n      <td>0</td>\n      <td>False</td>\n      <td>0</td>\n      <td>False</td>\n      <td>0</td>\n      <td>False</td>\n      <td>[]</td>\n      <td>...</td>\n      <td>0.400095</td>\n      <td>0.262307</td>\n      <td>0.052329</td>\n      <td>0.443299</td>\n      <td>0.895985</td>\n      <td>0.565586</td>\n      <td>0.221301</td>\n      <td>-0.797784</td>\n      <td>0.020691</td>\n      <td>0.002357</td>\n    </tr>\n    <tr>\n      <th>2</th>\n      <td>0</td>\n      <td>1</td>\n      <td>41</td>\n      <td>0</td>\n      <td>False</td>\n      <td>1</td>\n      <td>True</td>\n      <td>2</td>\n      <td>True</td>\n      <td>[]</td>\n      <td>...</td>\n      <td>0.460558</td>\n      <td>0.378846</td>\n      <td>-0.171764</td>\n      <td>0.227248</td>\n      <td>0.303033</td>\n      <td>0.620672</td>\n      <td>0.146584</td>\n      <td>-0.615910</td>\n      <td>0.112132</td>\n      <td>-0.088989</td>\n    </tr>\n    <tr>\n      <th>3</th>\n      <td>0</td>\n      <td>6</td>\n      <td>72</td>\n      <td>0</td>\n      <td>False</td>\n      <td>0</td>\n      <td>False</td>\n      <td>0</td>\n      <td>False</td>\n      <td>[]</td>\n      <td>...</td>\n      <td>0.535103</td>\n      <td>0.073591</td>\n      <td>-0.307203</td>\n      <td>0.651506</td>\n      <td>0.309582</td>\n      <td>0.018715</td>\n      <td>-0.205674</td>\n      <td>-0.595330</td>\n      <td>0.333111</td>\n      <td>0.001450</td>\n    </tr>\n    <tr>\n      <th>4</th>\n      <td>1</td>\n      <td>0</td>\n      <td>57</td>\n      <td>0</td>\n      <td>False</td>\n      <td>1</td>\n      <td>True</td>\n      <td>0</td>\n      <td>False</td>\n      <td>[]</td>\n      <td>...</td>\n      <td>0.484578</td>\n      <td>0.324513</td>\n      <td>-0.259205</td>\n      <td>0.183831</td>\n      <td>0.745856</td>\n      <td>0.448028</td>\n      <td>0.359533</td>\n      <td>-0.555516</td>\n      <td>-0.176974</td>\n      <td>-0.091381</td>\n    </tr>\n  </tbody>\n</table>\n<p>5 rows × 541 columns</p>\n</div>"
     },
     "execution_count": 3,
     "metadata": {},
     "output_type": "execute_result"
    }
   ],
   "source": [
    "df.head()"
   ],
   "metadata": {
    "collapsed": false,
    "ExecuteTime": {
     "end_time": "2024-04-21T20:05:32.625589993Z",
     "start_time": "2024-04-21T20:05:32.603399643Z"
    }
   },
   "id": "87ed935cc58ad477",
   "execution_count": 3
  },
  {
   "cell_type": "code",
   "outputs": [],
   "source": [
    "selected_columns = ['Negative_VADER', 'skewed_hour_dist', 'Weekday', 'Compound_VADER',\n",
    "                    'skewed_week_dist', 'w2v_11', 'Mentions', 'Polarity_TB', 'w2v_27',\n",
    "                    'w2v_53', 'Hour', 'w2v_44', 'w2v_84', 'embedding_16', 'w2v_47',\n",
    "                    'Positive_VADER', 'embedding_239', 'Length', 'embedding_284',\n",
    "                    'embedding_263', 'embedding_153', 'embedding_301', 'w2v_76',\n",
    "                    'embedding_220', 'embedding_366', 'w2v_29', 'w2v_61', 'embedding_28',\n",
    "                    'embedding_168', 'embedding_272', 'embedding_253', 'embedding_85',\n",
    "                    'embedding_285', 'w2v_12', 'w2v_31', 'embedding_120', 'embedding_254',\n",
    "                    'w2v_73', 'w2v_67', 'embedding_174', 'embedding_225', 'embedding_297',\n",
    "                    'embedding_68', 'embedding_211', 'embedding_178']\n",
    "\n",
    "df = df[selected_columns + ['Target']]"
   ],
   "metadata": {
    "collapsed": false,
    "ExecuteTime": {
     "end_time": "2024-04-21T20:05:32.637445699Z",
     "start_time": "2024-04-21T20:05:32.625816197Z"
    }
   },
   "id": "46e101762aa0376",
   "execution_count": 4
  },
  {
   "cell_type": "code",
   "outputs": [],
   "source": [
    "def evaluate_classifiers(X, y, classifiers, param_distributions, cv_folds=5, n_iter=10):\n",
    "    results = {}\n",
    "    best_models = {}\n",
    "    for name, clf in classifiers.items():\n",
    "        pipeline = Pipeline([('scaler', StandardScaler()), (name.lower().replace(\" \", \"\"), clf)])\n",
    "        search = TuneSearchCV(\n",
    "            pipeline,\n",
    "            param_distributions=param_distributions.get(name, {}),\n",
    "            n_trials=n_iter,\n",
    "            cv=cv_folds,\n",
    "            scoring='accuracy',\n",
    "            search_optimization=\"random\",\n",
    "            verbose=1,\n",
    "            random_state=42\n",
    "        )\n",
    "        search.fit(X, y)\n",
    "        best_models[name] = search.best_estimator_\n",
    "        results[name] = search.cv_results_\n",
    "        print(f\"{name} Best Accuracy: {search.best_score_:.2f}\")\n",
    "        print(f\"Best Parameters: {search.best_params_}\")\n",
    "\n",
    "    sorted_models = sorted(best_models.items(), key=lambda x: x[1].score(X, y), reverse=True)[:3]\n",
    "    return results, sorted_models"
   ],
   "metadata": {
    "collapsed": false,
    "ExecuteTime": {
     "end_time": "2024-04-21T20:05:32.654852558Z",
     "start_time": "2024-04-21T20:05:32.636137516Z"
    }
   },
   "id": "559afc3eb5393f25",
   "execution_count": 5
  },
  {
   "cell_type": "code",
   "outputs": [],
   "source": [
    "import optuna\n",
    "from sklearn.linear_model import LogisticRegression\n",
    "from sklearn.ensemble import RandomForestClassifier, GradientBoostingClassifier\n",
    "from sklearn.svm import SVC\n",
    "from sklearn.neighbors import KNeighborsClassifier\n",
    "from sklearn.tree import DecisionTreeClassifier\n",
    "from sklearn.naive_bayes import GaussianNB\n",
    "from sklearn.preprocessing import StandardScaler\n",
    "from sklearn.model_selection import cross_val_score, train_test_split\n",
    "from sklearn.pipeline import Pipeline\n",
    "\n",
    "X = df.drop(['Target'], axis=1)\n",
    "y = df['Target']\n",
    "X = X.select_dtypes(include=['number'])\n",
    "\n",
    "\n",
    "def objective(trial, classifier_name, model, param_grid):\n",
    "    params = {}\n",
    "    for key, values in param_grid.items():\n",
    "        if isinstance(values, list):\n",
    "            params[key] = trial.suggest_categorical(key, values)\n",
    "        elif isinstance(values, tuple) and len(values) == 3 and values[2] == 'log':\n",
    "            params[key] = trial.suggest_float(key, values[0], values[1], log=True)\n",
    "        elif isinstance(values, tuple):\n",
    "            params[key] = trial.suggest_float(key, values[0], values[1])\n",
    "\n",
    "    clf = model(**params)\n",
    "    pipeline = Pipeline([('scaler', StandardScaler()), ('classifier', clf)])\n",
    "    score = cross_val_score(pipeline, X, y, n_jobs=-1, cv=5).mean()\n",
    "    return score\n",
    "\n",
    "\n",
    "param_grids = {\n",
    "    'Logistic Regression': {'C': (1e-4, 1e4, 'log')},\n",
    "    'Random Forest': {\n",
    "        'n_estimators': [10, 50, 100, 200],\n",
    "        'max_features': ['sqrt', 'log2']\n",
    "    },\n",
    "    'k-Nearest Neighbors': {'n_neighbors': list(range(1, 21))},\n",
    "    'Decision Tree': {'max_depth': list(range(1, 21))},\n",
    "    'Naive Bayes': {}\n",
    "}\n",
    "\n"
   ],
   "metadata": {
    "collapsed": false,
    "ExecuteTime": {
     "end_time": "2024-04-21T20:05:33.310563857Z",
     "start_time": "2024-04-21T20:05:32.640520697Z"
    }
   },
   "id": "7a60216344cd3be3",
   "execution_count": 6
  },
  {
   "cell_type": "code",
   "outputs": [
    {
     "name": "stderr",
     "output_type": "stream",
     "text": [
      "[I 2024-04-21 18:08:17,582] A new study created in memory with name: no-name-8c54aabf-a7e6-4ced-b8a1-730499cd18a3\n",
      "[I 2024-04-21 18:08:19,565] Trial 0 finished with value: 0.77973 and parameters: {'C': 22.77468947394932}. Best is trial 0 with value: 0.77973.\n",
      "[I 2024-04-21 18:08:20,646] Trial 1 finished with value: 0.77973 and parameters: {'C': 1663.0547034476683}. Best is trial 0 with value: 0.77973.\n",
      "[I 2024-04-21 18:08:21,677] Trial 2 finished with value: 0.77973 and parameters: {'C': 4.283662948480398}. Best is trial 0 with value: 0.77973.\n",
      "[I 2024-04-21 18:08:22,644] Trial 3 finished with value: 0.77973 and parameters: {'C': 9.137908431133358}. Best is trial 0 with value: 0.77973.\n",
      "[I 2024-04-21 18:08:23,329] Trial 4 finished with value: 0.7797400000000001 and parameters: {'C': 0.3618307456149387}. Best is trial 4 with value: 0.7797400000000001.\n",
      "[I 2024-04-21 18:08:24,061] Trial 5 finished with value: 0.77973 and parameters: {'C': 7220.687700396874}. Best is trial 4 with value: 0.7797400000000001.\n",
      "[I 2024-04-21 18:08:24,651] Trial 6 finished with value: 0.77973 and parameters: {'C': 1.8120308687033875}. Best is trial 4 with value: 0.7797400000000001.\n",
      "[I 2024-04-21 18:08:25,299] Trial 7 finished with value: 0.77973 and parameters: {'C': 10.436451240719805}. Best is trial 4 with value: 0.7797400000000001.\n",
      "[I 2024-04-21 18:08:25,877] Trial 8 finished with value: 0.77973 and parameters: {'C': 44.275995865211385}. Best is trial 4 with value: 0.7797400000000001.\n",
      "[I 2024-04-21 18:08:26,483] Trial 9 finished with value: 0.77973 and parameters: {'C': 0.20014656658802446}. Best is trial 4 with value: 0.7797400000000001.\n",
      "[I 2024-04-21 18:08:26,484] A new study created in memory with name: no-name-d7e7b89e-97cb-400f-8351-9849e7e00891\n",
      "[I 2024-04-21 18:09:13,688] Trial 0 finished with value: 0.79464 and parameters: {'n_estimators': 100, 'max_features': 'sqrt'}. Best is trial 0 with value: 0.79464.\n",
      "[I 2024-04-21 18:09:18,072] Trial 1 finished with value: 0.76346 and parameters: {'n_estimators': 10, 'max_features': 'log2'}. Best is trial 0 with value: 0.79464.\n",
      "[I 2024-04-21 18:09:38,167] Trial 2 finished with value: 0.79108 and parameters: {'n_estimators': 50, 'max_features': 'log2'}. Best is trial 0 with value: 0.79464.\n",
      "[I 2024-04-21 18:09:43,254] Trial 3 finished with value: 0.76607 and parameters: {'n_estimators': 10, 'max_features': 'sqrt'}. Best is trial 0 with value: 0.79464.\n",
      "[I 2024-04-21 18:10:07,575] Trial 4 finished with value: 0.79115 and parameters: {'n_estimators': 50, 'max_features': 'sqrt'}. Best is trial 0 with value: 0.79464.\n",
      "[I 2024-04-21 18:10:12,367] Trial 5 finished with value: 0.76653 and parameters: {'n_estimators': 10, 'max_features': 'sqrt'}. Best is trial 0 with value: 0.79464.\n",
      "[I 2024-04-21 18:10:16,521] Trial 6 finished with value: 0.7642500000000001 and parameters: {'n_estimators': 10, 'max_features': 'log2'}. Best is trial 0 with value: 0.79464.\n",
      "[I 2024-04-21 18:11:48,969] Trial 7 finished with value: 0.7967599999999999 and parameters: {'n_estimators': 200, 'max_features': 'sqrt'}. Best is trial 7 with value: 0.7967599999999999.\n",
      "[I 2024-04-21 18:12:12,245] Trial 8 finished with value: 0.79177 and parameters: {'n_estimators': 50, 'max_features': 'sqrt'}. Best is trial 7 with value: 0.7967599999999999.\n",
      "[I 2024-04-21 18:12:31,861] Trial 9 finished with value: 0.7913600000000001 and parameters: {'n_estimators': 50, 'max_features': 'log2'}. Best is trial 7 with value: 0.7967599999999999.\n",
      "[I 2024-04-21 18:12:31,862] A new study created in memory with name: no-name-ab2f8d1d-dbc2-4d82-afb8-79c42703b013\n",
      "[I 2024-04-21 18:12:39,858] Trial 0 finished with value: 0.73392 and parameters: {'n_neighbors': 3}. Best is trial 0 with value: 0.73392.\n",
      "[I 2024-04-21 18:12:47,909] Trial 1 finished with value: 0.7313400000000001 and parameters: {'n_neighbors': 4}. Best is trial 0 with value: 0.73392.\n",
      "[I 2024-04-21 18:12:56,289] Trial 2 finished with value: 0.7558499999999999 and parameters: {'n_neighbors': 8}. Best is trial 2 with value: 0.7558499999999999.\n",
      "[I 2024-04-21 18:13:04,442] Trial 3 finished with value: 0.76448 and parameters: {'n_neighbors': 12}. Best is trial 3 with value: 0.76448.\n",
      "[I 2024-04-21 18:13:12,520] Trial 4 finished with value: 0.7566200000000001 and parameters: {'n_neighbors': 7}. Best is trial 3 with value: 0.76448.\n",
      "[I 2024-04-21 18:13:20,685] Trial 5 finished with value: 0.76997 and parameters: {'n_neighbors': 16}. Best is trial 5 with value: 0.76997.\n",
      "[I 2024-04-21 18:13:28,898] Trial 6 finished with value: 0.76448 and parameters: {'n_neighbors': 12}. Best is trial 5 with value: 0.76997.\n",
      "[I 2024-04-21 18:13:37,247] Trial 7 finished with value: 0.76997 and parameters: {'n_neighbors': 16}. Best is trial 5 with value: 0.76997.\n",
      "[I 2024-04-21 18:13:45,504] Trial 8 finished with value: 0.76997 and parameters: {'n_neighbors': 16}. Best is trial 5 with value: 0.76997.\n",
      "[I 2024-04-21 18:13:53,848] Trial 9 finished with value: 0.7729400000000001 and parameters: {'n_neighbors': 20}. Best is trial 9 with value: 0.7729400000000001.\n",
      "[I 2024-04-21 18:13:53,849] A new study created in memory with name: no-name-c6c27a82-1ce5-4f28-bc4c-093808a089d0\n",
      "[I 2024-04-21 18:13:55,724] Trial 0 finished with value: 0.7448600000000001 and parameters: {'max_depth': 4}. Best is trial 0 with value: 0.7448600000000001.\n",
      "[I 2024-04-21 18:13:57,524] Trial 1 finished with value: 0.7448600000000001 and parameters: {'max_depth': 4}. Best is trial 0 with value: 0.7448600000000001.\n",
      "[I 2024-04-21 18:14:00,570] Trial 2 finished with value: 0.76895 and parameters: {'max_depth': 8}. Best is trial 2 with value: 0.76895.\n",
      "[I 2024-04-21 18:14:05,568] Trial 3 finished with value: 0.7369600000000001 and parameters: {'max_depth': 17}. Best is trial 2 with value: 0.76895.\n",
      "[I 2024-04-21 18:14:09,184] Trial 4 finished with value: 0.76813 and parameters: {'max_depth': 10}. Best is trial 2 with value: 0.76895.\n",
      "[I 2024-04-21 18:14:14,039] Trial 5 finished with value: 0.73927 and parameters: {'max_depth': 16}. Best is trial 2 with value: 0.76895.\n",
      "[I 2024-04-21 18:14:16,491] Trial 6 finished with value: 0.76129 and parameters: {'max_depth': 6}. Best is trial 2 with value: 0.76895.\n",
      "[I 2024-04-21 18:14:19,834] Trial 7 finished with value: 0.76781 and parameters: {'max_depth': 9}. Best is trial 2 with value: 0.76895.\n",
      "[I 2024-04-21 18:14:24,123] Trial 8 finished with value: 0.75447 and parameters: {'max_depth': 13}. Best is trial 2 with value: 0.76895.\n",
      "[I 2024-04-21 18:14:25,951] Trial 9 finished with value: 0.7448600000000001 and parameters: {'max_depth': 4}. Best is trial 2 with value: 0.76895.\n",
      "[I 2024-04-21 18:14:25,952] A new study created in memory with name: no-name-9afe036b-40eb-4c37-94b1-897e38805086\n",
      "[I 2024-04-21 18:14:26,384] Trial 0 finished with value: 0.7529999999999999 and parameters: {}. Best is trial 0 with value: 0.7529999999999999.\n",
      "[I 2024-04-21 18:14:26,816] Trial 1 finished with value: 0.7529999999999999 and parameters: {}. Best is trial 0 with value: 0.7529999999999999.\n",
      "[I 2024-04-21 18:14:27,245] Trial 2 finished with value: 0.7529999999999999 and parameters: {}. Best is trial 0 with value: 0.7529999999999999.\n",
      "[I 2024-04-21 18:14:27,692] Trial 3 finished with value: 0.7529999999999999 and parameters: {}. Best is trial 0 with value: 0.7529999999999999.\n",
      "[I 2024-04-21 18:14:28,117] Trial 4 finished with value: 0.7529999999999999 and parameters: {}. Best is trial 0 with value: 0.7529999999999999.\n",
      "[I 2024-04-21 18:14:28,551] Trial 5 finished with value: 0.7529999999999999 and parameters: {}. Best is trial 0 with value: 0.7529999999999999.\n",
      "[I 2024-04-21 18:14:28,980] Trial 6 finished with value: 0.7529999999999999 and parameters: {}. Best is trial 0 with value: 0.7529999999999999.\n",
      "[I 2024-04-21 18:14:29,413] Trial 7 finished with value: 0.7529999999999999 and parameters: {}. Best is trial 0 with value: 0.7529999999999999.\n",
      "[I 2024-04-21 18:14:29,844] Trial 8 finished with value: 0.7529999999999999 and parameters: {}. Best is trial 0 with value: 0.7529999999999999.\n",
      "[I 2024-04-21 18:14:30,287] Trial 9 finished with value: 0.7529999999999999 and parameters: {}. Best is trial 0 with value: 0.7529999999999999.\n"
     ]
    },
    {
     "name": "stdout",
     "output_type": "stream",
     "text": [
      "Logistic Regression - Best Score: 0.7797\n",
      "Best Parameters: {'C': 0.3618307456149387}\n",
      "Random Forest - Best Score: 0.7968\n",
      "Best Parameters: {'n_estimators': 200, 'max_features': 'sqrt'}\n",
      "k-Nearest Neighbors - Best Score: 0.7729\n",
      "Best Parameters: {'n_neighbors': 20}\n",
      "Decision Tree - Best Score: 0.7690\n",
      "Best Parameters: {'max_depth': 8}\n",
      "Naive Bayes - Best Score: 0.7530\n",
      "Best Parameters: {}\n"
     ]
    }
   ],
   "source": [
    "study_results = {}\n",
    "for name, grid in param_grids.items():\n",
    "    study = optuna.create_study(direction='maximize')\n",
    "    study.optimize(lambda trial: objective(trial, name, {\n",
    "        'Logistic Regression': LogisticRegression,\n",
    "        'Random Forest': RandomForestClassifier,\n",
    "        'k-Nearest Neighbors': KNeighborsClassifier,\n",
    "        'Decision Tree': DecisionTreeClassifier,\n",
    "        'Naive Bayes': GaussianNB\n",
    "    }[name], grid), n_trials=10)\n",
    "\n",
    "    study_results[name] = {\n",
    "        'Best Score': study.best_value,\n",
    "        'Best Parameters': study.best_params\n",
    "    }\n",
    "\n",
    "for classifier, result in study_results.items():\n",
    "    print(f\"{classifier} - Best Score: {result['Best Score']:.4f}\")\n",
    "    print(f\"Best Parameters: {result['Best Parameters']}\")"
   ],
   "metadata": {
    "collapsed": false,
    "ExecuteTime": {
     "end_time": "2024-04-21T16:14:30.300100615Z",
     "start_time": "2024-04-21T16:08:17.582938823Z"
    }
   },
   "id": "ad8cfc9db6fc8165",
   "execution_count": 14
  },
  {
   "cell_type": "code",
   "outputs": [],
   "source": [
    "from tqdm import tqdm\n",
    "\n",
    "def evaluate_ensemble_classifiers(X, y, classifiers, cv_folds=5):\n",
    "    results = {}\n",
    "    for name, model in tqdm(classifiers.items()):\n",
    "        cv_scores = cross_val_score(model, X, y, cv=cv_folds, scoring='accuracy')\n",
    "        results[name] = {\n",
    "            'Mean Accuracy': np.mean(cv_scores),\n",
    "            'Standard Deviation': np.std(cv_scores),\n",
    "            'All Scores': cv_scores\n",
    "        }\n",
    "        print(f\"{name}: Mean Accuracy = {results[name]['Mean Accuracy']:.4f}, \" +\n",
    "              f\"Std Deviation = {results[name]['Standard Deviation']:.4f}\")\n",
    "    return results"
   ],
   "metadata": {
    "collapsed": false,
    "ExecuteTime": {
     "end_time": "2024-04-21T17:51:52.419572699Z",
     "start_time": "2024-04-21T17:51:52.416049752Z"
    }
   },
   "id": "bec768c46a63652f",
   "execution_count": 7
  },
  {
   "cell_type": "code",
   "outputs": [
    {
     "name": "stderr",
     "output_type": "stream",
     "text": [
      " 50%|█████     | 1/2 [00:05<00:05,  5.55s/it]"
     ]
    },
    {
     "name": "stdout",
     "output_type": "stream",
     "text": [
      "XGBoost: Mean Accuracy = 0.8072, Std Deviation = 0.0031\n",
      "[LightGBM] [Info] Number of positive: 40000, number of negative: 40000\n",
      "[LightGBM] [Info] Auto-choosing col-wise multi-threading, the overhead of testing was 0.007088 seconds.\n",
      "You can set `force_col_wise=true` to remove the overhead.\n",
      "[LightGBM] [Info] Total Bins 10161\n",
      "[LightGBM] [Info] Number of data points in the train set: 80000, number of used features: 45\n",
      "[LightGBM] [Info] [binary:BoostFromScore]: pavg=0.500000 -> initscore=0.000000\n",
      "[LightGBM] [Info] Number of positive: 40000, number of negative: 40000\n",
      "[LightGBM] [Info] Auto-choosing row-wise multi-threading, the overhead of testing was 0.001008 seconds.\n",
      "You can set `force_row_wise=true` to remove the overhead.\n",
      "And if memory is not enough, you can set `force_col_wise=true`.\n",
      "[LightGBM] [Info] Total Bins 10161\n",
      "[LightGBM] [Info] Number of data points in the train set: 80000, number of used features: 45\n",
      "[LightGBM] [Info] [binary:BoostFromScore]: pavg=0.500000 -> initscore=0.000000\n",
      "[LightGBM] [Info] Number of positive: 40000, number of negative: 40000\n",
      "[LightGBM] [Info] Auto-choosing col-wise multi-threading, the overhead of testing was 0.006074 seconds.\n",
      "You can set `force_col_wise=true` to remove the overhead.\n",
      "[LightGBM] [Info] Total Bins 10161\n",
      "[LightGBM] [Info] Number of data points in the train set: 80000, number of used features: 45\n",
      "[LightGBM] [Info] [binary:BoostFromScore]: pavg=0.500000 -> initscore=0.000000\n",
      "[LightGBM] [Info] Number of positive: 40000, number of negative: 40000\n",
      "[LightGBM] [Info] Auto-choosing col-wise multi-threading, the overhead of testing was 0.004050 seconds.\n",
      "You can set `force_col_wise=true` to remove the overhead.\n",
      "[LightGBM] [Info] Total Bins 10162\n",
      "[LightGBM] [Info] Number of data points in the train set: 80000, number of used features: 45\n",
      "[LightGBM] [Info] [binary:BoostFromScore]: pavg=0.500000 -> initscore=0.000000\n",
      "[LightGBM] [Info] Number of positive: 40000, number of negative: 40000\n",
      "[LightGBM] [Info] Auto-choosing col-wise multi-threading, the overhead of testing was 0.004615 seconds.\n",
      "You can set `force_col_wise=true` to remove the overhead.\n",
      "[LightGBM] [Info] Total Bins 10160\n",
      "[LightGBM] [Info] Number of data points in the train set: 80000, number of used features: 45\n",
      "[LightGBM] [Info] [binary:BoostFromScore]: pavg=0.500000 -> initscore=0.000000\n"
     ]
    },
    {
     "name": "stderr",
     "output_type": "stream",
     "text": [
      "100%|██████████| 2/2 [00:09<00:00,  4.94s/it]"
     ]
    },
    {
     "name": "stdout",
     "output_type": "stream",
     "text": [
      "LightGBM: Mean Accuracy = 0.8065, Std Deviation = 0.0035\n"
     ]
    },
    {
     "name": "stderr",
     "output_type": "stream",
     "text": [
      "\n"
     ]
    }
   ],
   "source": [
    "from sklearn.ensemble import RandomForestClassifier, GradientBoostingClassifier, AdaBoostClassifier, BaggingClassifier, \\\n",
    "    StackingClassifier, VotingClassifier, ExtraTreesClassifier\n",
    "from xgboost import XGBClassifier\n",
    "from lightgbm import LGBMClassifier\n",
    "\n",
    "base_estimators = [\n",
    "    ('DecisionTree', DecisionTreeClassifier(max_depth=8)),\n",
    "    ('KNN', KNeighborsClassifier(n_neighbors=20)),\n",
    "    ('ExtraTrees', ExtraTreesClassifier(n_estimators=100)),\n",
    "    ('LogisticRegression', LogisticRegression(C=0.36, max_iter=5000))\n",
    "]\n",
    "\n",
    "# Voting_Soft: Mean Accuracy = 0.7947, Std Deviation = 0.0033\n",
    "# AdaBoost (with Decision Tree): Mean Accuracy = 0.7430, Std Deviation = 0.0029\n",
    "# Bagging (with Logistic Regression): Mean Accuracy = 0.7799, Std Deviation = 0.0029\n",
    "# Stacking: Mean Accuracy = 0.7937, Std Deviation = 0.0047\n",
    "\n",
    "ensemble_classifiers = {\n",
    "    # \"Voting_Soft\": VotingClassifier(estimators=base_estimators, voting='soft'),\n",
    "    # \"AdaBoost (with Decision Tree)\": AdaBoostClassifier(DecisionTreeClassifier(max_depth=8), n_estimators=50),\n",
    "    # \"Bagging (with Logistic Regression)\": BaggingClassifier(LogisticRegression(C=0.36, max_iter=5000), n_estimators=10),\n",
    "    # \"Stacking\": StackingClassifier(estimators=base_estimators,\n",
    "    #                                final_estimator=GradientBoostingClassifier(n_estimators=50, learning_rate=1)),\n",
    "    \"XGBoost\": XGBClassifier(n_estimators=300, learning_rate=0.1),\n",
    "    \"LightGBM\": LGBMClassifier(n_estimators=300, learning_rate=0.1),\n",
    "\n",
    "}\n",
    "\n",
    "ensemble_classifiers_res = evaluate_ensemble_classifiers(X, y, ensemble_classifiers, cv_folds=5)"
   ],
   "metadata": {
    "collapsed": false,
    "ExecuteTime": {
     "end_time": "2024-04-21T17:52:02.701398230Z",
     "start_time": "2024-04-21T17:51:52.418965069Z"
    }
   },
   "id": "cd1cd5a28d84fbf8",
   "execution_count": 8
  },
  {
   "cell_type": "code",
   "outputs": [
    {
     "name": "stdout",
     "output_type": "stream",
     "text": [
      "Epoch 1/50\n",
      "\u001B[1m2500/2500\u001B[0m \u001B[32m━━━━━━━━━━━━━━━━━━━━\u001B[0m\u001B[37m\u001B[0m \u001B[1m2s\u001B[0m 688us/step - accuracy: 0.6747 - loss: 0.6192 - val_accuracy: 0.7592 - val_loss: 0.4913 - learning_rate: 1.0000e-04\n",
      "Epoch 2/50\n",
      "\u001B[1m2500/2500\u001B[0m \u001B[32m━━━━━━━━━━━━━━━━━━━━\u001B[0m\u001B[37m\u001B[0m \u001B[1m1s\u001B[0m 560us/step - accuracy: 0.7563 - loss: 0.4933 - val_accuracy: 0.7692 - val_loss: 0.4799 - learning_rate: 1.0000e-04\n",
      "Epoch 3/50\n",
      "\u001B[1m2500/2500\u001B[0m \u001B[32m━━━━━━━━━━━━━━━━━━━━\u001B[0m\u001B[37m\u001B[0m \u001B[1m1s\u001B[0m 552us/step - accuracy: 0.7689 - loss: 0.4778 - val_accuracy: 0.7703 - val_loss: 0.4728 - learning_rate: 1.0000e-04\n",
      "Epoch 4/50\n",
      "\u001B[1m2500/2500\u001B[0m \u001B[32m━━━━━━━━━━━━━━━━━━━━\u001B[0m\u001B[37m\u001B[0m \u001B[1m1s\u001B[0m 555us/step - accuracy: 0.7735 - loss: 0.4683 - val_accuracy: 0.7747 - val_loss: 0.4652 - learning_rate: 1.0000e-04\n",
      "Epoch 5/50\n",
      "\u001B[1m2500/2500\u001B[0m \u001B[32m━━━━━━━━━━━━━━━━━━━━\u001B[0m\u001B[37m\u001B[0m \u001B[1m1s\u001B[0m 593us/step - accuracy: 0.7774 - loss: 0.4635 - val_accuracy: 0.7804 - val_loss: 0.4616 - learning_rate: 1.0000e-04\n",
      "Epoch 6/50\n",
      "\u001B[1m2500/2500\u001B[0m \u001B[32m━━━━━━━━━━━━━━━━━━━━\u001B[0m\u001B[37m\u001B[0m \u001B[1m1s\u001B[0m 547us/step - accuracy: 0.7771 - loss: 0.4634 - val_accuracy: 0.7832 - val_loss: 0.4522 - learning_rate: 1.0000e-04\n",
      "Epoch 7/50\n",
      "\u001B[1m2500/2500\u001B[0m \u001B[32m━━━━━━━━━━━━━━━━━━━━\u001B[0m\u001B[37m\u001B[0m \u001B[1m1s\u001B[0m 540us/step - accuracy: 0.7786 - loss: 0.4599 - val_accuracy: 0.7861 - val_loss: 0.4468 - learning_rate: 1.0000e-04\n",
      "Epoch 8/50\n",
      "\u001B[1m2500/2500\u001B[0m \u001B[32m━━━━━━━━━━━━━━━━━━━━\u001B[0m\u001B[37m\u001B[0m \u001B[1m1s\u001B[0m 547us/step - accuracy: 0.7778 - loss: 0.4601 - val_accuracy: 0.7775 - val_loss: 0.4663 - learning_rate: 1.0000e-04\n",
      "Epoch 9/50\n",
      "\u001B[1m2500/2500\u001B[0m \u001B[32m━━━━━━━━━━━━━━━━━━━━\u001B[0m\u001B[37m\u001B[0m \u001B[1m1s\u001B[0m 544us/step - accuracy: 0.7800 - loss: 0.4558 - val_accuracy: 0.7623 - val_loss: 0.4789 - learning_rate: 1.0000e-04\n",
      "Epoch 10/50\n",
      "\u001B[1m2500/2500\u001B[0m \u001B[32m━━━━━━━━━━━━━━━━━━━━\u001B[0m\u001B[37m\u001B[0m \u001B[1m1s\u001B[0m 545us/step - accuracy: 0.7807 - loss: 0.4565 - val_accuracy: 0.7882 - val_loss: 0.4425 - learning_rate: 1.0000e-04\n",
      "Epoch 11/50\n",
      "\u001B[1m2500/2500\u001B[0m \u001B[32m━━━━━━━━━━━━━━━━━━━━\u001B[0m\u001B[37m\u001B[0m \u001B[1m1s\u001B[0m 548us/step - accuracy: 0.7875 - loss: 0.4464 - val_accuracy: 0.7890 - val_loss: 0.4417 - learning_rate: 1.0000e-05\n",
      "Epoch 12/50\n",
      "\u001B[1m2500/2500\u001B[0m \u001B[32m━━━━━━━━━━━━━━━━━━━━\u001B[0m\u001B[37m\u001B[0m \u001B[1m1s\u001B[0m 546us/step - accuracy: 0.7850 - loss: 0.4470 - val_accuracy: 0.7886 - val_loss: 0.4428 - learning_rate: 1.0000e-05\n",
      "Epoch 13/50\n",
      "\u001B[1m2500/2500\u001B[0m \u001B[32m━━━━━━━━━━━━━━━━━━━━\u001B[0m\u001B[37m\u001B[0m \u001B[1m1s\u001B[0m 543us/step - accuracy: 0.7874 - loss: 0.4454 - val_accuracy: 0.7885 - val_loss: 0.4417 - learning_rate: 1.0000e-05\n",
      "Epoch 14/50\n",
      "\u001B[1m2500/2500\u001B[0m \u001B[32m━━━━━━━━━━━━━━━━━━━━\u001B[0m\u001B[37m\u001B[0m \u001B[1m1s\u001B[0m 546us/step - accuracy: 0.7873 - loss: 0.4467 - val_accuracy: 0.7891 - val_loss: 0.4419 - learning_rate: 1.0000e-05\n",
      "Epoch 15/50\n",
      "\u001B[1m2500/2500\u001B[0m \u001B[32m━━━━━━━━━━━━━━━━━━━━\u001B[0m\u001B[37m\u001B[0m \u001B[1m1s\u001B[0m 549us/step - accuracy: 0.7861 - loss: 0.4456 - val_accuracy: 0.7878 - val_loss: 0.4434 - learning_rate: 1.0000e-05\n"
     ]
    }
   ],
   "source": [
    "import tensorflow as tf\n",
    "\n",
    "early_stopping = tf.keras.callbacks.EarlyStopping(\n",
    "    patience=5,\n",
    "    min_delta=0.001,\n",
    "    restore_best_weights=True\n",
    ")\n",
    "\n",
    "lr_scheduler = tf.keras.callbacks.LearningRateScheduler(\n",
    "    lambda epoch: 1e-4 * 10**( -(epoch // 10))\n",
    ")\n",
    "\n",
    "model = tf.keras.models.Sequential([\n",
    "    tf.keras.layers.InputLayer(shape=(X.shape[1],)),\n",
    "    tf.keras.layers.Dense(64, activation='relu'),\n",
    "    tf.keras.layers.Dense(128, activation='relu'),\n",
    "    tf.keras.layers.Dense(32, activation='relu'),\n",
    "    tf.keras.layers.Dense(1, activation='sigmoid'),\n",
    "])\n",
    "\n",
    "model.compile(optimizer='adam',\n",
    "              loss='binary_crossentropy',\n",
    "              metrics=['accuracy'])\n",
    "\n",
    "history = model.fit(X, y, epochs=50, validation_split=0.2, callbacks=[early_stopping, lr_scheduler])\n",
    "\n",
    "model.save(\"./models/nn_model_more_f.keras\")"
   ],
   "metadata": {
    "collapsed": false,
    "ExecuteTime": {
     "end_time": "2024-04-21T20:07:50.052907738Z",
     "start_time": "2024-04-21T20:07:27.930703594Z"
    }
   },
   "id": "b3854cb8d91bfd33",
   "execution_count": 10
  },
  {
   "cell_type": "code",
   "outputs": [
    {
     "data": {
      "text/plain": "<Figure size 1200x600 with 2 Axes>",
      "image/png": "[encoded data removed]"
     },
     "metadata": {},
     "output_type": "display_data"
    }
   ],
   "source": [
    "fig, ax = plt.subplots(2, 1, figsize=(12, 6))\n",
    "\n",
    "for i, metric in enumerate(['accuracy', 'loss']):\n",
    "    ax[i].plot(history.history[metric], label='Train')\n",
    "    ax[i].plot(history.history[f'val_{metric}'], label='Validation')\n",
    "    ax[i].set_title(f'Model {metric}')\n",
    "    ax[i].set_xlabel('Epoch')\n",
    "    ax[i].set_ylabel(metric)\n",
    "    ax[i].legend()\n",
    "\n",
    "plt.tight_layout()\n",
    "plt.show()"
   ],
   "metadata": {
    "collapsed": false,
    "ExecuteTime": {
     "end_time": "2024-04-21T20:08:13.809062593Z",
     "start_time": "2024-04-21T20:08:13.481685977Z"
    }
   },
   "id": "560054028e8ed219",
   "execution_count": 11
  },
  {
   "cell_type": "code",
   "outputs": [],
   "source": [],
   "metadata": {
    "collapsed": false
   },
   "id": "7287e9e29e24c9a9"
  }
 ],
 "metadata": {
  "kernelspec": {
   "display_name": "Python 3",
   "language": "python",
   "name": "python3"
  },
  "language_info": {
   "codemirror_mode": {
    "name": "ipython",
    "version": 2
   },
   "file_extension": ".py",
   "mimetype": "text/x-python",
   "name": "python",
   "nbconvert_exporter": "python",
   "pygments_lexer": "ipython2",
   "version": "2.7.6"
  }
 },
 "nbformat": 4,
 "nbformat_minor": 5
}
